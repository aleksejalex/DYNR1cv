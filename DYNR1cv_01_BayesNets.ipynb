{
  "cells": [
    {
      "cell_type": "markdown",
      "metadata": {
        "id": "view-in-github",
        "colab_type": "text"
      },
      "source": [
        "<a href=\"https://colab.research.google.com/github/aleksejalex/DYNR1cv/blob/main/DYNR1cv_01_BayesNets.ipynb\" target=\"_parent\"><img src=\"https://colab.research.google.com/assets/colab-badge.svg\" alt=\"Open In Colab\"/></a>"
      ]
    },
    {
      "cell_type": "markdown",
      "metadata": {
        "id": "LWPYHs4c-3Fe"
      },
      "source": [
        "# DYNR1cv - Bayesian nets.\n",
        "\n",
        "Prepared by: *Aleksej Gaj* ([email](mailto:aleksejalex@gmail.com))\n",
        "\n",
        "This material was inspired by the documentation of `bnlearn` library: [here](https://erdogant.github.io/bnlearn/pages/html/Examples.html#parameter-learning)\n"
      ]
    },
    {
      "cell_type": "markdown",
      "metadata": {
        "id": "yLG4B-Ay_YxU"
      },
      "source": [
        "## installing library `bnlearn`"
      ]
    },
    {
      "cell_type": "code",
      "execution_count": 1,
      "metadata": {
        "id": "knoZZWqX9DDp"
      },
      "outputs": [],
      "source": [
        "%%capture\n",
        "%pip install bnlearn"
      ]
    },
    {
      "cell_type": "code",
      "execution_count": 2,
      "metadata": {
        "id": "zmLwX84UBCTK"
      },
      "outputs": [],
      "source": [
        "%%capture\n",
        "%pip install d3blocks"
      ]
    },
    {
      "cell_type": "markdown",
      "metadata": {
        "id": "AE2ttaHJ_cGN"
      },
      "source": [
        "## imports"
      ]
    },
    {
      "cell_type": "code",
      "execution_count": 3,
      "metadata": {
        "id": "Wfzd1J7U0Zzt"
      },
      "outputs": [],
      "source": [
        "import bnlearn as bn\n",
        "import pandas as pd\n",
        "import matplotlib.pyplot as plt\n",
        "import numpy as np"
      ]
    },
    {
      "cell_type": "markdown",
      "metadata": {
        "id": "Umyy32DY_eG9"
      },
      "source": [
        "## `sprinkler` example\n",
        "\n",
        "**Setup:** imagine we have data observed and some prior/expert knowledge about the process (relation between nodes).\n",
        "\n",
        "**Aim:** to create Directed Acyclic Graph (DAG) on the expert knowledge and learn the conditional proability distributions (CPDs) from data.\n",
        "\n",
        "Code below shows how to:\n",
        " - import data\n",
        " - define graph (which reflects prior knowledge about process)\n",
        " - compute/update probabilities using data\n",
        " - plot the graph/sheme\n",
        " - make an inference (i.e. to predict)"
      ]
    },
    {
      "cell_type": "code",
      "execution_count": 4,
      "metadata": {
        "id": "QWrz9v5E1u0F",
        "colab": {
          "base_uri": "https://localhost:8080/",
          "height": 175
        },
        "outputId": "012da864-dc42-46bc-c6f3-72d0dea47ccb"
      },
      "outputs": [
        {
          "output_type": "execute_result",
          "data": {
            "text/plain": [
              "   Cloudy  Sprinkler  Rain  Wet_Grass\n",
              "0       0          0     0          0\n",
              "1       1          0     1          1\n",
              "2       0          1     0          1\n",
              "3       1          1     1          1"
            ],
            "text/html": [
              "\n",
              "  <div id=\"df-dbad59a7-bbdc-42f6-a529-7556a7621106\" class=\"colab-df-container\">\n",
              "    <div>\n",
              "<style scoped>\n",
              "    .dataframe tbody tr th:only-of-type {\n",
              "        vertical-align: middle;\n",
              "    }\n",
              "\n",
              "    .dataframe tbody tr th {\n",
              "        vertical-align: top;\n",
              "    }\n",
              "\n",
              "    .dataframe thead th {\n",
              "        text-align: right;\n",
              "    }\n",
              "</style>\n",
              "<table border=\"1\" class=\"dataframe\">\n",
              "  <thead>\n",
              "    <tr style=\"text-align: right;\">\n",
              "      <th></th>\n",
              "      <th>Cloudy</th>\n",
              "      <th>Sprinkler</th>\n",
              "      <th>Rain</th>\n",
              "      <th>Wet_Grass</th>\n",
              "    </tr>\n",
              "  </thead>\n",
              "  <tbody>\n",
              "    <tr>\n",
              "      <th>0</th>\n",
              "      <td>0</td>\n",
              "      <td>0</td>\n",
              "      <td>0</td>\n",
              "      <td>0</td>\n",
              "    </tr>\n",
              "    <tr>\n",
              "      <th>1</th>\n",
              "      <td>1</td>\n",
              "      <td>0</td>\n",
              "      <td>1</td>\n",
              "      <td>1</td>\n",
              "    </tr>\n",
              "    <tr>\n",
              "      <th>2</th>\n",
              "      <td>0</td>\n",
              "      <td>1</td>\n",
              "      <td>0</td>\n",
              "      <td>1</td>\n",
              "    </tr>\n",
              "    <tr>\n",
              "      <th>3</th>\n",
              "      <td>1</td>\n",
              "      <td>1</td>\n",
              "      <td>1</td>\n",
              "      <td>1</td>\n",
              "    </tr>\n",
              "  </tbody>\n",
              "</table>\n",
              "</div>\n",
              "    <div class=\"colab-df-buttons\">\n",
              "\n",
              "  <div class=\"colab-df-container\">\n",
              "    <button class=\"colab-df-convert\" onclick=\"convertToInteractive('df-dbad59a7-bbdc-42f6-a529-7556a7621106')\"\n",
              "            title=\"Convert this dataframe to an interactive table.\"\n",
              "            style=\"display:none;\">\n",
              "\n",
              "  <svg xmlns=\"http://www.w3.org/2000/svg\" height=\"24px\" viewBox=\"0 -960 960 960\">\n",
              "    <path d=\"M120-120v-720h720v720H120Zm60-500h600v-160H180v160Zm220 220h160v-160H400v160Zm0 220h160v-160H400v160ZM180-400h160v-160H180v160Zm440 0h160v-160H620v160ZM180-180h160v-160H180v160Zm440 0h160v-160H620v160Z\"/>\n",
              "  </svg>\n",
              "    </button>\n",
              "\n",
              "  <style>\n",
              "    .colab-df-container {\n",
              "      display:flex;\n",
              "      gap: 12px;\n",
              "    }\n",
              "\n",
              "    .colab-df-convert {\n",
              "      background-color: #E8F0FE;\n",
              "      border: none;\n",
              "      border-radius: 50%;\n",
              "      cursor: pointer;\n",
              "      display: none;\n",
              "      fill: #1967D2;\n",
              "      height: 32px;\n",
              "      padding: 0 0 0 0;\n",
              "      width: 32px;\n",
              "    }\n",
              "\n",
              "    .colab-df-convert:hover {\n",
              "      background-color: #E2EBFA;\n",
              "      box-shadow: 0px 1px 2px rgba(60, 64, 67, 0.3), 0px 1px 3px 1px rgba(60, 64, 67, 0.15);\n",
              "      fill: #174EA6;\n",
              "    }\n",
              "\n",
              "    .colab-df-buttons div {\n",
              "      margin-bottom: 4px;\n",
              "    }\n",
              "\n",
              "    [theme=dark] .colab-df-convert {\n",
              "      background-color: #3B4455;\n",
              "      fill: #D2E3FC;\n",
              "    }\n",
              "\n",
              "    [theme=dark] .colab-df-convert:hover {\n",
              "      background-color: #434B5C;\n",
              "      box-shadow: 0px 1px 3px 1px rgba(0, 0, 0, 0.15);\n",
              "      filter: drop-shadow(0px 1px 2px rgba(0, 0, 0, 0.3));\n",
              "      fill: #FFFFFF;\n",
              "    }\n",
              "  </style>\n",
              "\n",
              "    <script>\n",
              "      const buttonEl =\n",
              "        document.querySelector('#df-dbad59a7-bbdc-42f6-a529-7556a7621106 button.colab-df-convert');\n",
              "      buttonEl.style.display =\n",
              "        google.colab.kernel.accessAllowed ? 'block' : 'none';\n",
              "\n",
              "      async function convertToInteractive(key) {\n",
              "        const element = document.querySelector('#df-dbad59a7-bbdc-42f6-a529-7556a7621106');\n",
              "        const dataTable =\n",
              "          await google.colab.kernel.invokeFunction('convertToInteractive',\n",
              "                                                    [key], {});\n",
              "        if (!dataTable) return;\n",
              "\n",
              "        const docLinkHtml = 'Like what you see? Visit the ' +\n",
              "          '<a target=\"_blank\" href=https://colab.research.google.com/notebooks/data_table.ipynb>data table notebook</a>'\n",
              "          + ' to learn more about interactive tables.';\n",
              "        element.innerHTML = '';\n",
              "        dataTable['output_type'] = 'display_data';\n",
              "        await google.colab.output.renderOutput(dataTable, element);\n",
              "        const docLink = document.createElement('div');\n",
              "        docLink.innerHTML = docLinkHtml;\n",
              "        element.appendChild(docLink);\n",
              "      }\n",
              "    </script>\n",
              "  </div>\n",
              "\n",
              "\n",
              "<div id=\"df-4e535c87-65e7-453f-bc6a-a51468cf4661\">\n",
              "  <button class=\"colab-df-quickchart\" onclick=\"quickchart('df-4e535c87-65e7-453f-bc6a-a51468cf4661')\"\n",
              "            title=\"Suggest charts\"\n",
              "            style=\"display:none;\">\n",
              "\n",
              "<svg xmlns=\"http://www.w3.org/2000/svg\" height=\"24px\"viewBox=\"0 0 24 24\"\n",
              "     width=\"24px\">\n",
              "    <g>\n",
              "        <path d=\"M19 3H5c-1.1 0-2 .9-2 2v14c0 1.1.9 2 2 2h14c1.1 0 2-.9 2-2V5c0-1.1-.9-2-2-2zM9 17H7v-7h2v7zm4 0h-2V7h2v10zm4 0h-2v-4h2v4z\"/>\n",
              "    </g>\n",
              "</svg>\n",
              "  </button>\n",
              "\n",
              "<style>\n",
              "  .colab-df-quickchart {\n",
              "      --bg-color: #E8F0FE;\n",
              "      --fill-color: #1967D2;\n",
              "      --hover-bg-color: #E2EBFA;\n",
              "      --hover-fill-color: #174EA6;\n",
              "      --disabled-fill-color: #AAA;\n",
              "      --disabled-bg-color: #DDD;\n",
              "  }\n",
              "\n",
              "  [theme=dark] .colab-df-quickchart {\n",
              "      --bg-color: #3B4455;\n",
              "      --fill-color: #D2E3FC;\n",
              "      --hover-bg-color: #434B5C;\n",
              "      --hover-fill-color: #FFFFFF;\n",
              "      --disabled-bg-color: #3B4455;\n",
              "      --disabled-fill-color: #666;\n",
              "  }\n",
              "\n",
              "  .colab-df-quickchart {\n",
              "    background-color: var(--bg-color);\n",
              "    border: none;\n",
              "    border-radius: 50%;\n",
              "    cursor: pointer;\n",
              "    display: none;\n",
              "    fill: var(--fill-color);\n",
              "    height: 32px;\n",
              "    padding: 0;\n",
              "    width: 32px;\n",
              "  }\n",
              "\n",
              "  .colab-df-quickchart:hover {\n",
              "    background-color: var(--hover-bg-color);\n",
              "    box-shadow: 0 1px 2px rgba(60, 64, 67, 0.3), 0 1px 3px 1px rgba(60, 64, 67, 0.15);\n",
              "    fill: var(--button-hover-fill-color);\n",
              "  }\n",
              "\n",
              "  .colab-df-quickchart-complete:disabled,\n",
              "  .colab-df-quickchart-complete:disabled:hover {\n",
              "    background-color: var(--disabled-bg-color);\n",
              "    fill: var(--disabled-fill-color);\n",
              "    box-shadow: none;\n",
              "  }\n",
              "\n",
              "  .colab-df-spinner {\n",
              "    border: 2px solid var(--fill-color);\n",
              "    border-color: transparent;\n",
              "    border-bottom-color: var(--fill-color);\n",
              "    animation:\n",
              "      spin 1s steps(1) infinite;\n",
              "  }\n",
              "\n",
              "  @keyframes spin {\n",
              "    0% {\n",
              "      border-color: transparent;\n",
              "      border-bottom-color: var(--fill-color);\n",
              "      border-left-color: var(--fill-color);\n",
              "    }\n",
              "    20% {\n",
              "      border-color: transparent;\n",
              "      border-left-color: var(--fill-color);\n",
              "      border-top-color: var(--fill-color);\n",
              "    }\n",
              "    30% {\n",
              "      border-color: transparent;\n",
              "      border-left-color: var(--fill-color);\n",
              "      border-top-color: var(--fill-color);\n",
              "      border-right-color: var(--fill-color);\n",
              "    }\n",
              "    40% {\n",
              "      border-color: transparent;\n",
              "      border-right-color: var(--fill-color);\n",
              "      border-top-color: var(--fill-color);\n",
              "    }\n",
              "    60% {\n",
              "      border-color: transparent;\n",
              "      border-right-color: var(--fill-color);\n",
              "    }\n",
              "    80% {\n",
              "      border-color: transparent;\n",
              "      border-right-color: var(--fill-color);\n",
              "      border-bottom-color: var(--fill-color);\n",
              "    }\n",
              "    90% {\n",
              "      border-color: transparent;\n",
              "      border-bottom-color: var(--fill-color);\n",
              "    }\n",
              "  }\n",
              "</style>\n",
              "\n",
              "  <script>\n",
              "    async function quickchart(key) {\n",
              "      const quickchartButtonEl =\n",
              "        document.querySelector('#' + key + ' button');\n",
              "      quickchartButtonEl.disabled = true;  // To prevent multiple clicks.\n",
              "      quickchartButtonEl.classList.add('colab-df-spinner');\n",
              "      try {\n",
              "        const charts = await google.colab.kernel.invokeFunction(\n",
              "            'suggestCharts', [key], {});\n",
              "      } catch (error) {\n",
              "        console.error('Error during call to suggestCharts:', error);\n",
              "      }\n",
              "      quickchartButtonEl.classList.remove('colab-df-spinner');\n",
              "      quickchartButtonEl.classList.add('colab-df-quickchart-complete');\n",
              "    }\n",
              "    (() => {\n",
              "      let quickchartButtonEl =\n",
              "        document.querySelector('#df-4e535c87-65e7-453f-bc6a-a51468cf4661 button');\n",
              "      quickchartButtonEl.style.display =\n",
              "        google.colab.kernel.accessAllowed ? 'block' : 'none';\n",
              "    })();\n",
              "  </script>\n",
              "</div>\n",
              "    </div>\n",
              "  </div>\n"
            ],
            "application/vnd.google.colaboratory.intrinsic+json": {
              "type": "dataframe",
              "variable_name": "df",
              "summary": "{\n  \"name\": \"df\",\n  \"rows\": 1000,\n  \"fields\": [\n    {\n      \"column\": \"Cloudy\",\n      \"properties\": {\n        \"dtype\": \"number\",\n        \"std\": 0,\n        \"min\": 0,\n        \"max\": 1,\n        \"num_unique_values\": 2,\n        \"samples\": [\n          1,\n          0\n        ],\n        \"semantic_type\": \"\",\n        \"description\": \"\"\n      }\n    },\n    {\n      \"column\": \"Sprinkler\",\n      \"properties\": {\n        \"dtype\": \"number\",\n        \"std\": 0,\n        \"min\": 0,\n        \"max\": 1,\n        \"num_unique_values\": 2,\n        \"samples\": [\n          1,\n          0\n        ],\n        \"semantic_type\": \"\",\n        \"description\": \"\"\n      }\n    },\n    {\n      \"column\": \"Rain\",\n      \"properties\": {\n        \"dtype\": \"number\",\n        \"std\": 0,\n        \"min\": 0,\n        \"max\": 1,\n        \"num_unique_values\": 2,\n        \"samples\": [\n          1,\n          0\n        ],\n        \"semantic_type\": \"\",\n        \"description\": \"\"\n      }\n    },\n    {\n      \"column\": \"Wet_Grass\",\n      \"properties\": {\n        \"dtype\": \"number\",\n        \"std\": 0,\n        \"min\": 0,\n        \"max\": 1,\n        \"num_unique_values\": 2,\n        \"samples\": [\n          1,\n          0\n        ],\n        \"semantic_type\": \"\",\n        \"description\": \"\"\n      }\n    }\n  ]\n}"
            }
          },
          "metadata": {},
          "execution_count": 4
        }
      ],
      "source": [
        "df = bn.import_example('sprinkler')\n",
        "df.head(4)"
      ]
    },
    {
      "cell_type": "markdown",
      "metadata": {
        "id": "UQed9bylAKAK"
      },
      "source": [
        "This is how dataset looks like:"
      ]
    },
    {
      "cell_type": "code",
      "execution_count": 5,
      "metadata": {
        "id": "GKB0gFL19roh",
        "colab": {
          "base_uri": "https://localhost:8080/",
          "height": 300
        },
        "outputId": "af7e04e4-36e3-42dd-c08d-d5011be94e8f"
      },
      "outputs": [
        {
          "output_type": "execute_result",
          "data": {
            "text/plain": [
              "            Cloudy    Sprinkler         Rain    Wet_Grass\n",
              "count  1000.000000  1000.000000  1000.000000  1000.000000\n",
              "mean      0.512000     0.309000     0.515000     0.653000\n",
              "std       0.500106     0.462312     0.500025     0.476254\n",
              "min       0.000000     0.000000     0.000000     0.000000\n",
              "25%       0.000000     0.000000     0.000000     0.000000\n",
              "50%       1.000000     0.000000     1.000000     1.000000\n",
              "75%       1.000000     1.000000     1.000000     1.000000\n",
              "max       1.000000     1.000000     1.000000     1.000000"
            ],
            "text/html": [
              "\n",
              "  <div id=\"df-338e5378-305c-4c46-8900-87156c8d1eaf\" class=\"colab-df-container\">\n",
              "    <div>\n",
              "<style scoped>\n",
              "    .dataframe tbody tr th:only-of-type {\n",
              "        vertical-align: middle;\n",
              "    }\n",
              "\n",
              "    .dataframe tbody tr th {\n",
              "        vertical-align: top;\n",
              "    }\n",
              "\n",
              "    .dataframe thead th {\n",
              "        text-align: right;\n",
              "    }\n",
              "</style>\n",
              "<table border=\"1\" class=\"dataframe\">\n",
              "  <thead>\n",
              "    <tr style=\"text-align: right;\">\n",
              "      <th></th>\n",
              "      <th>Cloudy</th>\n",
              "      <th>Sprinkler</th>\n",
              "      <th>Rain</th>\n",
              "      <th>Wet_Grass</th>\n",
              "    </tr>\n",
              "  </thead>\n",
              "  <tbody>\n",
              "    <tr>\n",
              "      <th>count</th>\n",
              "      <td>1000.000000</td>\n",
              "      <td>1000.000000</td>\n",
              "      <td>1000.000000</td>\n",
              "      <td>1000.000000</td>\n",
              "    </tr>\n",
              "    <tr>\n",
              "      <th>mean</th>\n",
              "      <td>0.512000</td>\n",
              "      <td>0.309000</td>\n",
              "      <td>0.515000</td>\n",
              "      <td>0.653000</td>\n",
              "    </tr>\n",
              "    <tr>\n",
              "      <th>std</th>\n",
              "      <td>0.500106</td>\n",
              "      <td>0.462312</td>\n",
              "      <td>0.500025</td>\n",
              "      <td>0.476254</td>\n",
              "    </tr>\n",
              "    <tr>\n",
              "      <th>min</th>\n",
              "      <td>0.000000</td>\n",
              "      <td>0.000000</td>\n",
              "      <td>0.000000</td>\n",
              "      <td>0.000000</td>\n",
              "    </tr>\n",
              "    <tr>\n",
              "      <th>25%</th>\n",
              "      <td>0.000000</td>\n",
              "      <td>0.000000</td>\n",
              "      <td>0.000000</td>\n",
              "      <td>0.000000</td>\n",
              "    </tr>\n",
              "    <tr>\n",
              "      <th>50%</th>\n",
              "      <td>1.000000</td>\n",
              "      <td>0.000000</td>\n",
              "      <td>1.000000</td>\n",
              "      <td>1.000000</td>\n",
              "    </tr>\n",
              "    <tr>\n",
              "      <th>75%</th>\n",
              "      <td>1.000000</td>\n",
              "      <td>1.000000</td>\n",
              "      <td>1.000000</td>\n",
              "      <td>1.000000</td>\n",
              "    </tr>\n",
              "    <tr>\n",
              "      <th>max</th>\n",
              "      <td>1.000000</td>\n",
              "      <td>1.000000</td>\n",
              "      <td>1.000000</td>\n",
              "      <td>1.000000</td>\n",
              "    </tr>\n",
              "  </tbody>\n",
              "</table>\n",
              "</div>\n",
              "    <div class=\"colab-df-buttons\">\n",
              "\n",
              "  <div class=\"colab-df-container\">\n",
              "    <button class=\"colab-df-convert\" onclick=\"convertToInteractive('df-338e5378-305c-4c46-8900-87156c8d1eaf')\"\n",
              "            title=\"Convert this dataframe to an interactive table.\"\n",
              "            style=\"display:none;\">\n",
              "\n",
              "  <svg xmlns=\"http://www.w3.org/2000/svg\" height=\"24px\" viewBox=\"0 -960 960 960\">\n",
              "    <path d=\"M120-120v-720h720v720H120Zm60-500h600v-160H180v160Zm220 220h160v-160H400v160Zm0 220h160v-160H400v160ZM180-400h160v-160H180v160Zm440 0h160v-160H620v160ZM180-180h160v-160H180v160Zm440 0h160v-160H620v160Z\"/>\n",
              "  </svg>\n",
              "    </button>\n",
              "\n",
              "  <style>\n",
              "    .colab-df-container {\n",
              "      display:flex;\n",
              "      gap: 12px;\n",
              "    }\n",
              "\n",
              "    .colab-df-convert {\n",
              "      background-color: #E8F0FE;\n",
              "      border: none;\n",
              "      border-radius: 50%;\n",
              "      cursor: pointer;\n",
              "      display: none;\n",
              "      fill: #1967D2;\n",
              "      height: 32px;\n",
              "      padding: 0 0 0 0;\n",
              "      width: 32px;\n",
              "    }\n",
              "\n",
              "    .colab-df-convert:hover {\n",
              "      background-color: #E2EBFA;\n",
              "      box-shadow: 0px 1px 2px rgba(60, 64, 67, 0.3), 0px 1px 3px 1px rgba(60, 64, 67, 0.15);\n",
              "      fill: #174EA6;\n",
              "    }\n",
              "\n",
              "    .colab-df-buttons div {\n",
              "      margin-bottom: 4px;\n",
              "    }\n",
              "\n",
              "    [theme=dark] .colab-df-convert {\n",
              "      background-color: #3B4455;\n",
              "      fill: #D2E3FC;\n",
              "    }\n",
              "\n",
              "    [theme=dark] .colab-df-convert:hover {\n",
              "      background-color: #434B5C;\n",
              "      box-shadow: 0px 1px 3px 1px rgba(0, 0, 0, 0.15);\n",
              "      filter: drop-shadow(0px 1px 2px rgba(0, 0, 0, 0.3));\n",
              "      fill: #FFFFFF;\n",
              "    }\n",
              "  </style>\n",
              "\n",
              "    <script>\n",
              "      const buttonEl =\n",
              "        document.querySelector('#df-338e5378-305c-4c46-8900-87156c8d1eaf button.colab-df-convert');\n",
              "      buttonEl.style.display =\n",
              "        google.colab.kernel.accessAllowed ? 'block' : 'none';\n",
              "\n",
              "      async function convertToInteractive(key) {\n",
              "        const element = document.querySelector('#df-338e5378-305c-4c46-8900-87156c8d1eaf');\n",
              "        const dataTable =\n",
              "          await google.colab.kernel.invokeFunction('convertToInteractive',\n",
              "                                                    [key], {});\n",
              "        if (!dataTable) return;\n",
              "\n",
              "        const docLinkHtml = 'Like what you see? Visit the ' +\n",
              "          '<a target=\"_blank\" href=https://colab.research.google.com/notebooks/data_table.ipynb>data table notebook</a>'\n",
              "          + ' to learn more about interactive tables.';\n",
              "        element.innerHTML = '';\n",
              "        dataTable['output_type'] = 'display_data';\n",
              "        await google.colab.output.renderOutput(dataTable, element);\n",
              "        const docLink = document.createElement('div');\n",
              "        docLink.innerHTML = docLinkHtml;\n",
              "        element.appendChild(docLink);\n",
              "      }\n",
              "    </script>\n",
              "  </div>\n",
              "\n",
              "\n",
              "<div id=\"df-b12c81dc-d396-431a-8a4d-107a1630d246\">\n",
              "  <button class=\"colab-df-quickchart\" onclick=\"quickchart('df-b12c81dc-d396-431a-8a4d-107a1630d246')\"\n",
              "            title=\"Suggest charts\"\n",
              "            style=\"display:none;\">\n",
              "\n",
              "<svg xmlns=\"http://www.w3.org/2000/svg\" height=\"24px\"viewBox=\"0 0 24 24\"\n",
              "     width=\"24px\">\n",
              "    <g>\n",
              "        <path d=\"M19 3H5c-1.1 0-2 .9-2 2v14c0 1.1.9 2 2 2h14c1.1 0 2-.9 2-2V5c0-1.1-.9-2-2-2zM9 17H7v-7h2v7zm4 0h-2V7h2v10zm4 0h-2v-4h2v4z\"/>\n",
              "    </g>\n",
              "</svg>\n",
              "  </button>\n",
              "\n",
              "<style>\n",
              "  .colab-df-quickchart {\n",
              "      --bg-color: #E8F0FE;\n",
              "      --fill-color: #1967D2;\n",
              "      --hover-bg-color: #E2EBFA;\n",
              "      --hover-fill-color: #174EA6;\n",
              "      --disabled-fill-color: #AAA;\n",
              "      --disabled-bg-color: #DDD;\n",
              "  }\n",
              "\n",
              "  [theme=dark] .colab-df-quickchart {\n",
              "      --bg-color: #3B4455;\n",
              "      --fill-color: #D2E3FC;\n",
              "      --hover-bg-color: #434B5C;\n",
              "      --hover-fill-color: #FFFFFF;\n",
              "      --disabled-bg-color: #3B4455;\n",
              "      --disabled-fill-color: #666;\n",
              "  }\n",
              "\n",
              "  .colab-df-quickchart {\n",
              "    background-color: var(--bg-color);\n",
              "    border: none;\n",
              "    border-radius: 50%;\n",
              "    cursor: pointer;\n",
              "    display: none;\n",
              "    fill: var(--fill-color);\n",
              "    height: 32px;\n",
              "    padding: 0;\n",
              "    width: 32px;\n",
              "  }\n",
              "\n",
              "  .colab-df-quickchart:hover {\n",
              "    background-color: var(--hover-bg-color);\n",
              "    box-shadow: 0 1px 2px rgba(60, 64, 67, 0.3), 0 1px 3px 1px rgba(60, 64, 67, 0.15);\n",
              "    fill: var(--button-hover-fill-color);\n",
              "  }\n",
              "\n",
              "  .colab-df-quickchart-complete:disabled,\n",
              "  .colab-df-quickchart-complete:disabled:hover {\n",
              "    background-color: var(--disabled-bg-color);\n",
              "    fill: var(--disabled-fill-color);\n",
              "    box-shadow: none;\n",
              "  }\n",
              "\n",
              "  .colab-df-spinner {\n",
              "    border: 2px solid var(--fill-color);\n",
              "    border-color: transparent;\n",
              "    border-bottom-color: var(--fill-color);\n",
              "    animation:\n",
              "      spin 1s steps(1) infinite;\n",
              "  }\n",
              "\n",
              "  @keyframes spin {\n",
              "    0% {\n",
              "      border-color: transparent;\n",
              "      border-bottom-color: var(--fill-color);\n",
              "      border-left-color: var(--fill-color);\n",
              "    }\n",
              "    20% {\n",
              "      border-color: transparent;\n",
              "      border-left-color: var(--fill-color);\n",
              "      border-top-color: var(--fill-color);\n",
              "    }\n",
              "    30% {\n",
              "      border-color: transparent;\n",
              "      border-left-color: var(--fill-color);\n",
              "      border-top-color: var(--fill-color);\n",
              "      border-right-color: var(--fill-color);\n",
              "    }\n",
              "    40% {\n",
              "      border-color: transparent;\n",
              "      border-right-color: var(--fill-color);\n",
              "      border-top-color: var(--fill-color);\n",
              "    }\n",
              "    60% {\n",
              "      border-color: transparent;\n",
              "      border-right-color: var(--fill-color);\n",
              "    }\n",
              "    80% {\n",
              "      border-color: transparent;\n",
              "      border-right-color: var(--fill-color);\n",
              "      border-bottom-color: var(--fill-color);\n",
              "    }\n",
              "    90% {\n",
              "      border-color: transparent;\n",
              "      border-bottom-color: var(--fill-color);\n",
              "    }\n",
              "  }\n",
              "</style>\n",
              "\n",
              "  <script>\n",
              "    async function quickchart(key) {\n",
              "      const quickchartButtonEl =\n",
              "        document.querySelector('#' + key + ' button');\n",
              "      quickchartButtonEl.disabled = true;  // To prevent multiple clicks.\n",
              "      quickchartButtonEl.classList.add('colab-df-spinner');\n",
              "      try {\n",
              "        const charts = await google.colab.kernel.invokeFunction(\n",
              "            'suggestCharts', [key], {});\n",
              "      } catch (error) {\n",
              "        console.error('Error during call to suggestCharts:', error);\n",
              "      }\n",
              "      quickchartButtonEl.classList.remove('colab-df-spinner');\n",
              "      quickchartButtonEl.classList.add('colab-df-quickchart-complete');\n",
              "    }\n",
              "    (() => {\n",
              "      let quickchartButtonEl =\n",
              "        document.querySelector('#df-b12c81dc-d396-431a-8a4d-107a1630d246 button');\n",
              "      quickchartButtonEl.style.display =\n",
              "        google.colab.kernel.accessAllowed ? 'block' : 'none';\n",
              "    })();\n",
              "  </script>\n",
              "</div>\n",
              "    </div>\n",
              "  </div>\n"
            ],
            "application/vnd.google.colaboratory.intrinsic+json": {
              "type": "dataframe",
              "summary": "{\n  \"name\": \"df\",\n  \"rows\": 8,\n  \"fields\": [\n    {\n      \"column\": \"Cloudy\",\n      \"properties\": {\n        \"dtype\": \"number\",\n        \"std\": 353.3509937728812,\n        \"min\": 0.0,\n        \"max\": 1000.0,\n        \"num_unique_values\": 5,\n        \"samples\": [\n          0.512,\n          1.0,\n          0.500106094849989\n        ],\n        \"semantic_type\": \"\",\n        \"description\": \"\"\n      }\n    },\n    {\n      \"column\": \"Sprinkler\",\n      \"properties\": {\n        \"dtype\": \"number\",\n        \"std\": 353.4136631480918,\n        \"min\": 0.0,\n        \"max\": 1000.0,\n        \"num_unique_values\": 5,\n        \"samples\": [\n          0.309,\n          1.0,\n          0.46231237570795436\n        ],\n        \"semantic_type\": \"\",\n        \"description\": \"\"\n      }\n    },\n    {\n      \"column\": \"Rain\",\n      \"properties\": {\n        \"dtype\": \"number\",\n        \"std\": 353.3508462745697,\n        \"min\": 0.0,\n        \"max\": 1000.0,\n        \"num_unique_values\": 5,\n        \"samples\": [\n          0.515,\n          1.0,\n          0.5000250243988045\n        ],\n        \"semantic_type\": \"\",\n        \"description\": \"\"\n      }\n    },\n    {\n      \"column\": \"Wet_Grass\",\n      \"properties\": {\n        \"dtype\": \"number\",\n        \"std\": 353.3450778728734,\n        \"min\": 0.0,\n        \"max\": 1000.0,\n        \"num_unique_values\": 5,\n        \"samples\": [\n          0.653,\n          1.0,\n          0.4762539425745658\n        ],\n        \"semantic_type\": \"\",\n        \"description\": \"\"\n      }\n    }\n  ]\n}"
            }
          },
          "metadata": {},
          "execution_count": 5
        }
      ],
      "source": [
        "df.describe(include='all')"
      ]
    },
    {
      "cell_type": "markdown",
      "metadata": {
        "id": "5HuF2-vl93Hn"
      },
      "source": [
        "Define the network structure. This can be based on expert knowledge."
      ]
    },
    {
      "cell_type": "code",
      "execution_count": 6,
      "metadata": {
        "id": "uYdVxHal9w7G"
      },
      "outputs": [],
      "source": [
        "edges = [('Cloudy', 'Sprinkler'),\n",
        "         ('Cloudy', 'Rain'),\n",
        "         ('Sprinkler', 'Wet_Grass'),\n",
        "         ('Rain', 'Wet_Grass')]"
      ]
    },
    {
      "cell_type": "markdown",
      "metadata": {
        "id": "Vm-hbD-J97fd"
      },
      "source": [
        "Make the actual Bayesian DAG"
      ]
    },
    {
      "cell_type": "code",
      "execution_count": 7,
      "metadata": {
        "id": "B7GKt6f795eP",
        "colab": {
          "base_uri": "https://localhost:8080/"
        },
        "outputId": "aa96da23-258a-4523-c112-debd222359f3"
      },
      "outputs": [
        {
          "output_type": "stream",
          "name": "stdout",
          "text": [
            "[bnlearn] >bayes DAG created.\n"
          ]
        }
      ],
      "source": [
        "DAG = bn.make_DAG(edges)\n",
        "# [BNLEARN] Bayesian DAG created."
      ]
    },
    {
      "cell_type": "code",
      "execution_count": 8,
      "metadata": {
        "id": "YgPL8GxE95bY",
        "colab": {
          "base_uri": "https://localhost:8080/"
        },
        "outputId": "ab6c563d-69dc-408f-cfb8-3344c84d8f76"
      },
      "outputs": [
        {
          "output_type": "stream",
          "name": "stdout",
          "text": [
            "[bnlearn] >No CPDs to print. Hint: Add CPDs as following: <bn.make_DAG(DAG, CPD=[cpd_A, cpd_B, etc])> and use bnlearn.plot(DAG) to make a plot.\n"
          ]
        }
      ],
      "source": [
        "# Print the CPDs\n",
        "CPDs = bn.print_CPD(DAG)"
      ]
    },
    {
      "cell_type": "markdown",
      "metadata": {
        "id": "Migo6rMD-Gr9"
      },
      "source": [
        "Plot the DAG"
      ]
    },
    {
      "cell_type": "code",
      "execution_count": 9,
      "metadata": {
        "id": "jOab18AA95Y9",
        "colab": {
          "base_uri": "https://localhost:8080/",
          "height": 1000
        },
        "outputId": "ef658fa3-c16d-44a3-d856-9c482bf511d3"
      },
      "outputs": [
        {
          "output_type": "stream",
          "name": "stdout",
          "text": [
            "[bnlearn] >Set node properties.\n",
            "[bnlearn] >Set edge properties.\n",
            "[bnlearn] >Plot based on Bayesian model\n"
          ]
        },
        {
          "output_type": "display_data",
          "data": {
            "text/plain": [
              "<Figure size 1500x1000 with 1 Axes>"
            ],
            "image/png": "[encoded data removed]"
          },
          "metadata": {}
        },
        {
          "output_type": "execute_result",
          "data": {
            "text/plain": [
              "{'fig': <Figure size 1500x1000 with 1 Axes>,\n",
              " 'ax': <Figure size 1500x1000 with 1 Axes>,\n",
              " 'pos': {'Cloudy': array([-0.74761361,  0.51019224]),\n",
              "  'Sprinkler': array([0.45605912, 1.        ]),\n",
              "  'Rain': array([-0.706824  , -0.80132555]),\n",
              "  'Wet_Grass': array([ 0.99837849, -0.70886669])},\n",
              " 'G': <networkx.classes.digraph.DiGraph at 0x7ded47affac0>,\n",
              " 'node_properties': {'Cloudy': {'node_color': '#1f456e', 'node_size': 800},\n",
              "  'Sprinkler': {'node_color': '#1f456e', 'node_size': 800},\n",
              "  'Rain': {'node_color': '#1f456e', 'node_size': 800},\n",
              "  'Wet_Grass': {'node_color': '#1f456e', 'node_size': 800}},\n",
              " 'edge_properties': {('Cloudy', 'Sprinkler'): {'color': '#000000',\n",
              "   'weight': 1},\n",
              "  ('Cloudy', 'Rain'): {'color': '#000000', 'weight': 1},\n",
              "  ('Sprinkler', 'Wet_Grass'): {'color': '#000000', 'weight': 1},\n",
              "  ('Rain', 'Wet_Grass'): {'color': '#000000', 'weight': 1}}}"
            ]
          },
          "metadata": {},
          "execution_count": 9
        }
      ],
      "source": [
        "bn.plot(model=DAG, interactive=False)"
      ]
    },
    {
      "cell_type": "markdown",
      "metadata": {
        "id": "1m4vV2I4-lyh"
      },
      "source": [
        "Parameter learning on the user-defined DAG and input data using maximumlikelihood."
      ]
    },
    {
      "cell_type": "code",
      "execution_count": 10,
      "metadata": {
        "id": "MWll8kLW95WR",
        "colab": {
          "base_uri": "https://localhost:8080/"
        },
        "outputId": "95cfa983-007b-46e9-d8ae-e1c6c07be5e4"
      },
      "outputs": [
        {
          "output_type": "stream",
          "name": "stdout",
          "text": [
            "[bnlearn] >Parameter learning> Computing parameters using [maximumlikelihood]\n",
            "[bnlearn] >CPD of Cloudy:\n",
            "+-----------+-------+\n",
            "| Cloudy(0) | 0.488 |\n",
            "+-----------+-------+\n",
            "| Cloudy(1) | 0.512 |\n",
            "+-----------+-------+\n",
            "[bnlearn] >CPD of Sprinkler:\n",
            "+--------------+--------------------+------------+\n",
            "| Cloudy       | Cloudy(0)          | Cloudy(1)  |\n",
            "+--------------+--------------------+------------+\n",
            "| Sprinkler(0) | 0.4610655737704918 | 0.91015625 |\n",
            "+--------------+--------------------+------------+\n",
            "| Sprinkler(1) | 0.5389344262295082 | 0.08984375 |\n",
            "+--------------+--------------------+------------+\n",
            "[bnlearn] >CPD of Rain:\n",
            "+---------+---------------------+-------------+\n",
            "| Cloudy  | Cloudy(0)           | Cloudy(1)   |\n",
            "+---------+---------------------+-------------+\n",
            "| Rain(0) | 0.8073770491803278  | 0.177734375 |\n",
            "+---------+---------------------+-------------+\n",
            "| Rain(1) | 0.19262295081967212 | 0.822265625 |\n",
            "+---------+---------------------+-------------+\n",
            "[bnlearn] >CPD of Wet_Grass:\n",
            "+--------------+--------------+--------------+---------------------+----------------------+\n",
            "| Rain         | Rain(0)      | Rain(0)      | Rain(1)             | Rain(1)              |\n",
            "+--------------+--------------+--------------+---------------------+----------------------+\n",
            "| Sprinkler    | Sprinkler(0) | Sprinkler(1) | Sprinkler(0)        | Sprinkler(1)         |\n",
            "+--------------+--------------+--------------+---------------------+----------------------+\n",
            "| Wet_Grass(0) | 1.0          | 0.15625      | 0.11395348837209303 | 0.023529411764705882 |\n",
            "+--------------+--------------+--------------+---------------------+----------------------+\n",
            "| Wet_Grass(1) | 0.0          | 0.84375      | 0.8860465116279069  | 0.9764705882352941   |\n",
            "+--------------+--------------+--------------+---------------------+----------------------+\n",
            "[bnlearn] >Compute structure scores for model comparison (higher is better).\n"
          ]
        }
      ],
      "source": [
        "DAG = bn.parameter_learning.fit(DAG, df, methodtype='maximumlikelihood')"
      ]
    },
    {
      "cell_type": "code",
      "execution_count": 11,
      "metadata": {
        "id": "9AP-DvpJ9e0J",
        "colab": {
          "base_uri": "https://localhost:8080/"
        },
        "outputId": "98ca91cb-2f54-4971-debf-fa8de29fa004"
      },
      "outputs": [
        {
          "output_type": "execute_result",
          "data": {
            "text/plain": [
              "{'model': <pgmpy.models.BayesianNetwork.BayesianNetwork at 0x7ded47affa30>,\n",
              " 'adjmat': target     Cloudy  Sprinkler   Rain  Wet_Grass\n",
              " source                                        \n",
              " Cloudy      False       True   True      False\n",
              " Sprinkler   False      False  False       True\n",
              " Rain        False      False  False       True\n",
              " Wet_Grass   False      False  False      False,\n",
              " 'config': {'verbose': 3, 'method': 'maximumlikelihood', 'n_jobs': -1},\n",
              " 'model_edges': [('Cloudy', 'Sprinkler'),\n",
              "  ('Cloudy', 'Rain'),\n",
              "  ('Sprinkler', 'Wet_Grass'),\n",
              "  ('Rain', 'Wet_Grass')],\n",
              " 'structure_scores': {'k2': -1952.7499005180107,\n",
              "  'bic': -1953.219110059786,\n",
              "  'bdeu': -1954.4304910940116,\n",
              "  'bds': -1961.361962899611},\n",
              " 'independence_test': None}"
            ]
          },
          "metadata": {},
          "execution_count": 11
        }
      ],
      "source": [
        "DAG"
      ]
    },
    {
      "cell_type": "markdown",
      "metadata": {
        "id": "1diL3WMs-qQk"
      },
      "source": [
        "Lets print the learned CPDs:"
      ]
    },
    {
      "cell_type": "code",
      "execution_count": 12,
      "metadata": {
        "id": "a8sC--BS95Te",
        "colab": {
          "base_uri": "https://localhost:8080/"
        },
        "outputId": "6b1cf566-f4e1-467a-d783-e98373588b60"
      },
      "outputs": [
        {
          "output_type": "stream",
          "name": "stdout",
          "text": [
            "[bnlearn] >Warning: variable(s) [None] does not exists in DAG.\n",
            "[bnlearn] >Data is stored in [query.df]\n",
            "+----+----------+-------+\n",
            "|    |   Cloudy |     p |\n",
            "+====+==========+=======+\n",
            "|  0 |        0 | 0.488 |\n",
            "+----+----------+-------+\n",
            "|  1 |        1 | 0.512 |\n",
            "+----+----------+-------+\n",
            "CPD of Cloudy:\n",
            "+-----------+-------+\n",
            "| Cloudy(0) | 0.488 |\n",
            "+-----------+-------+\n",
            "| Cloudy(1) | 0.512 |\n",
            "+-----------+-------+\n",
            "[bnlearn] >Warning: variable(s) [None] does not exists in DAG.\n",
            "[bnlearn] >Data is stored in [query.df]\n",
            "+----+-------------+----------+-----------+\n",
            "|    |   Sprinkler |   Cloudy |         p |\n",
            "+====+=============+==========+===========+\n",
            "|  0 |           0 |        0 | 0.461066  |\n",
            "+----+-------------+----------+-----------+\n",
            "|  1 |           0 |        1 | 0.910156  |\n",
            "+----+-------------+----------+-----------+\n",
            "|  2 |           1 |        0 | 0.538934  |\n",
            "+----+-------------+----------+-----------+\n",
            "|  3 |           1 |        1 | 0.0898438 |\n",
            "+----+-------------+----------+-----------+\n",
            "CPD of Sprinkler:\n",
            "+--------------+--------------------+------------+\n",
            "| Cloudy       | Cloudy(0)          | Cloudy(1)  |\n",
            "+--------------+--------------------+------------+\n",
            "| Sprinkler(0) | 0.4610655737704918 | 0.91015625 |\n",
            "+--------------+--------------------+------------+\n",
            "| Sprinkler(1) | 0.5389344262295082 | 0.08984375 |\n",
            "+--------------+--------------------+------------+\n",
            "[bnlearn] >Warning: variable(s) [None] does not exists in DAG.\n",
            "[bnlearn] >Data is stored in [query.df]\n",
            "+----+--------+----------+----------+\n",
            "|    |   Rain |   Cloudy |        p |\n",
            "+====+========+==========+==========+\n",
            "|  0 |      0 |        0 | 0.807377 |\n",
            "+----+--------+----------+----------+\n",
            "|  1 |      0 |        1 | 0.177734 |\n",
            "+----+--------+----------+----------+\n",
            "|  2 |      1 |        0 | 0.192623 |\n",
            "+----+--------+----------+----------+\n",
            "|  3 |      1 |        1 | 0.822266 |\n",
            "+----+--------+----------+----------+\n",
            "CPD of Rain:\n",
            "+---------+---------------------+-------------+\n",
            "| Cloudy  | Cloudy(0)           | Cloudy(1)   |\n",
            "+---------+---------------------+-------------+\n",
            "| Rain(0) | 0.8073770491803278  | 0.177734375 |\n",
            "+---------+---------------------+-------------+\n",
            "| Rain(1) | 0.19262295081967212 | 0.822265625 |\n",
            "+---------+---------------------+-------------+\n",
            "[bnlearn] >Warning: variable(s) [None] does not exists in DAG.\n",
            "[bnlearn] >Data is stored in [query.df]\n",
            "+----+-------------+--------+-------------+-----------+\n",
            "|    |   Wet_Grass |   Rain |   Sprinkler |         p |\n",
            "+====+=============+========+=============+===========+\n",
            "|  0 |           0 |      0 |           0 | 1         |\n",
            "+----+-------------+--------+-------------+-----------+\n",
            "|  1 |           0 |      0 |           1 | 0.15625   |\n",
            "+----+-------------+--------+-------------+-----------+\n",
            "|  2 |           0 |      1 |           0 | 0.113953  |\n",
            "+----+-------------+--------+-------------+-----------+\n",
            "|  3 |           0 |      1 |           1 | 0.0235294 |\n",
            "+----+-------------+--------+-------------+-----------+\n",
            "|  4 |           1 |      0 |           0 | 0         |\n",
            "+----+-------------+--------+-------------+-----------+\n",
            "|  5 |           1 |      0 |           1 | 0.84375   |\n",
            "+----+-------------+--------+-------------+-----------+\n",
            "|  6 |           1 |      1 |           0 | 0.886047  |\n",
            "+----+-------------+--------+-------------+-----------+\n",
            "|  7 |           1 |      1 |           1 | 0.976471  |\n",
            "+----+-------------+--------+-------------+-----------+\n",
            "CPD of Wet_Grass:\n",
            "+--------------+--------------+--------------+---------------------+----------------------+\n",
            "| Rain         | Rain(0)      | Rain(0)      | Rain(1)             | Rain(1)              |\n",
            "+--------------+--------------+--------------+---------------------+----------------------+\n",
            "| Sprinkler    | Sprinkler(0) | Sprinkler(1) | Sprinkler(0)        | Sprinkler(1)         |\n",
            "+--------------+--------------+--------------+---------------------+----------------------+\n",
            "| Wet_Grass(0) | 1.0          | 0.15625      | 0.11395348837209303 | 0.023529411764705882 |\n",
            "+--------------+--------------+--------------+---------------------+----------------------+\n",
            "| Wet_Grass(1) | 0.0          | 0.84375      | 0.8860465116279069  | 0.9764705882352941   |\n",
            "+--------------+--------------+--------------+---------------------+----------------------+\n",
            "[bnlearn] >Independencies:\n",
            "(Sprinkler ⟂ Rain | Cloudy)\n",
            "(Cloudy ⟂ Wet_Grass | Sprinkler, Rain)\n",
            "(Wet_Grass ⟂ Cloudy | Sprinkler, Rain)\n",
            "(Rain ⟂ Sprinkler | Cloudy)\n",
            "[bnlearn] >Nodes: ['Cloudy', 'Sprinkler', 'Rain', 'Wet_Grass']\n",
            "[bnlearn] >Edges: [('Cloudy', 'Sprinkler'), ('Cloudy', 'Rain'), ('Sprinkler', 'Wet_Grass'), ('Rain', 'Wet_Grass')]\n"
          ]
        }
      ],
      "source": [
        "CPDs = bn.print_CPD(DAG)"
      ]
    },
    {
      "cell_type": "markdown",
      "metadata": {
        "id": "KormzUjv-x8D"
      },
      "source": [
        "Lets make an inference:"
      ]
    },
    {
      "cell_type": "code",
      "execution_count": 13,
      "metadata": {
        "id": "T0pbjY6T95Q3",
        "colab": {
          "base_uri": "https://localhost:8080/"
        },
        "outputId": "e47a6e35-316f-4049-ff66-779e67399a63"
      },
      "outputs": [
        {
          "output_type": "stream",
          "name": "stdout",
          "text": [
            "[bnlearn] >Variable Elimination.\n",
            "[bnlearn] >Warning: variable(s) [None] does not exists in DAG.\n",
            "[bnlearn] >Data is stored in [query.df]\n",
            "+----+-------------+----------+\n",
            "|    |   Wet_Grass |        p |\n",
            "+====+=============+==========+\n",
            "|  0 |           0 | 0.113953 |\n",
            "+----+-------------+----------+\n",
            "|  1 |           1 | 0.886047 |\n",
            "+----+-------------+----------+\n"
          ]
        }
      ],
      "source": [
        "q1 = bn.inference.fit(DAG, variables=['Wet_Grass'], evidence={'Rain':1, 'Sprinkler':0, 'Cloudy':1})"
      ]
    },
    {
      "cell_type": "code",
      "execution_count": 13,
      "metadata": {
        "id": "3k1-wtwo95OB"
      },
      "outputs": [],
      "source": []
    },
    {
      "cell_type": "code",
      "execution_count": 13,
      "metadata": {
        "id": "yi-XPnCM95K0"
      },
      "outputs": [],
      "source": []
    }
  ],
  "metadata": {
    "colab": {
      "provenance": [],
      "include_colab_link": true
    },
    "kernelspec": {
      "display_name": "Python 3",
      "name": "python3"
    },
    "language_info": {
      "codemirror_mode": {
        "name": "ipython",
        "version": 3
      },
      "file_extension": ".py",
      "mimetype": "text/x-python",
      "name": "python",
      "nbconvert_exporter": "python",
      "pygments_lexer": "ipython3",
      "version": "3.12.2"
    }
  },
  "nbformat": 4,
  "nbformat_minor": 0
}